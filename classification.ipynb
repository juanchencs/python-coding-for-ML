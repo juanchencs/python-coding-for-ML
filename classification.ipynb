{
 "cells": [
  {
   "cell_type": "code",
   "execution_count": 1,
   "metadata": {
    "execution": {
     "iopub.execute_input": "2020-11-21T15:11:15.182207Z",
     "iopub.status.busy": "2020-11-21T15:11:15.181359Z",
     "iopub.status.idle": "2020-11-21T15:11:16.479281Z",
     "shell.execute_reply": "2020-11-21T15:11:16.478379Z"
    },
    "papermill": {
     "duration": 1.325503,
     "end_time": "2020-11-21T15:11:16.479432",
     "exception": false,
     "start_time": "2020-11-21T15:11:15.153929",
     "status": "completed"
    },
    "tags": []
   },
   "outputs": [],
   "source": [
    "import warnings\n",
    "warnings.simplefilter('ignore')\n",
    "\n",
    "import numpy as np\n",
    "import pandas as pd\n",
    "import seaborn as sns\n",
    "import matplotlib.pyplot as plt\n",
    "from sklearn.preprocessing import LabelEncoder\n",
    "from sklearn.model_selection import train_test_split\n",
    "from sklearn.metrics import auc, roc_curve, classification_report, precision_score, recall_score, accuracy_score, roc_auc_score \n",
    "\n",
    " \n",
    "from sklearn.preprocessing import StandardScaler"
   ]
  },
  {
   "cell_type": "code",
   "execution_count": 2,
   "metadata": {
    "execution": {
     "iopub.execute_input": "2020-11-21T15:11:16.520299Z",
     "iopub.status.busy": "2020-11-21T15:11:16.519252Z",
     "iopub.status.idle": "2020-11-21T15:11:16.524984Z",
     "shell.execute_reply": "2020-11-21T15:11:16.523969Z"
    },
    "papermill": {
     "duration": 0.028995,
     "end_time": "2020-11-21T15:11:16.525171",
     "exception": false,
     "start_time": "2020-11-21T15:11:16.496176",
     "status": "completed"
    },
    "tags": []
   },
   "outputs": [
    {
     "name": "stdout",
     "output_type": "stream",
     "text": [
      "/kaggle/input/titanic/train.csv\n",
      "/kaggle/input/titanic/gender_submission.csv\n",
      "/kaggle/input/titanic/test.csv\n"
     ]
    }
   ],
   "source": [
    "\n",
    "\n",
    "import os\n",
    "for dirname, _, filenames in os.walk('/kaggle/input'):\n",
    "    for filename in filenames:\n",
    "        print(os.path.join(dirname, filename))\n",
    "\n"
   ]
  },
  {
   "cell_type": "code",
   "execution_count": 3,
   "metadata": {
    "execution": {
     "iopub.execute_input": "2020-11-21T15:11:16.570368Z",
     "iopub.status.busy": "2020-11-21T15:11:16.569521Z",
     "iopub.status.idle": "2020-11-21T15:11:16.606547Z",
     "shell.execute_reply": "2020-11-21T15:11:16.605836Z"
    },
    "papermill": {
     "duration": 0.063949,
     "end_time": "2020-11-21T15:11:16.606680",
     "exception": false,
     "start_time": "2020-11-21T15:11:16.542731",
     "status": "completed"
    },
    "tags": []
   },
   "outputs": [
    {
     "name": "stdout",
     "output_type": "stream",
     "text": [
      "<class 'pandas.core.frame.DataFrame'>\n",
      "RangeIndex: 891 entries, 0 to 890\n",
      "Data columns (total 12 columns):\n",
      " #   Column       Non-Null Count  Dtype  \n",
      "---  ------       --------------  -----  \n",
      " 0   PassengerId  891 non-null    int64  \n",
      " 1   Survived     891 non-null    int64  \n",
      " 2   Pclass       891 non-null    int64  \n",
      " 3   Name         891 non-null    object \n",
      " 4   Sex          891 non-null    object \n",
      " 5   Age          714 non-null    float64\n",
      " 6   SibSp        891 non-null    int64  \n",
      " 7   Parch        891 non-null    int64  \n",
      " 8   Ticket       891 non-null    object \n",
      " 9   Fare         891 non-null    float64\n",
      " 10  Cabin        204 non-null    object \n",
      " 11  Embarked     889 non-null    object \n",
      "dtypes: float64(2), int64(5), object(5)\n",
      "memory usage: 83.7+ KB\n"
     ]
    }
   ],
   "source": [
    "#traindata=pd.read_csv(r'/home/jovyan/work/loan_table.csv', parse_dates=['date'])\n",
    "#parse_dates是将所有字符串形式的日期转换为日期形式\n",
    "\n",
    "#TitanicPD = pd.read_csv(r'/kaggle/input/train.csv') \n",
    "traindata = pd.read_csv('/kaggle/input/titanic/train.csv') \n",
    "traindata.head()\n",
    "traindata.info()"
   ]
  },
  {
   "cell_type": "code",
   "execution_count": 4,
   "metadata": {
    "execution": {
     "iopub.execute_input": "2020-11-21T15:11:16.657586Z",
     "iopub.status.busy": "2020-11-21T15:11:16.656354Z",
     "iopub.status.idle": "2020-11-21T15:11:16.681590Z",
     "shell.execute_reply": "2020-11-21T15:11:16.682785Z"
    },
    "papermill": {
     "duration": 0.059183,
     "end_time": "2020-11-21T15:11:16.683033",
     "exception": false,
     "start_time": "2020-11-21T15:11:16.623850",
     "status": "completed"
    },
    "tags": []
   },
   "outputs": [
    {
     "name": "stdout",
     "output_type": "stream",
     "text": [
      "<class 'pandas.core.frame.DataFrame'>\n",
      "RangeIndex: 418 entries, 0 to 417\n",
      "Data columns (total 11 columns):\n",
      " #   Column       Non-Null Count  Dtype  \n",
      "---  ------       --------------  -----  \n",
      " 0   PassengerId  418 non-null    int64  \n",
      " 1   Pclass       418 non-null    int64  \n",
      " 2   Name         418 non-null    object \n",
      " 3   Sex          418 non-null    object \n",
      " 4   Age          332 non-null    float64\n",
      " 5   SibSp        418 non-null    int64  \n",
      " 6   Parch        418 non-null    int64  \n",
      " 7   Ticket       418 non-null    object \n",
      " 8   Fare         417 non-null    float64\n",
      " 9   Cabin        91 non-null     object \n",
      " 10  Embarked     418 non-null    object \n",
      "dtypes: float64(2), int64(4), object(5)\n",
      "memory usage: 36.0+ KB\n"
     ]
    }
   ],
   "source": [
    "testdata = pd.read_csv('/kaggle/input/titanic/test.csv') \n",
    "testdata.info()"
   ]
  },
  {
   "cell_type": "code",
   "execution_count": 5,
   "metadata": {
    "execution": {
     "iopub.execute_input": "2020-11-21T15:11:16.775466Z",
     "iopub.status.busy": "2020-11-21T15:11:16.774086Z",
     "iopub.status.idle": "2020-11-21T15:11:16.791750Z",
     "shell.execute_reply": "2020-11-21T15:11:16.790767Z"
    },
    "papermill": {
     "duration": 0.086978,
     "end_time": "2020-11-21T15:11:16.791962",
     "exception": false,
     "start_time": "2020-11-21T15:11:16.704984",
     "status": "completed"
    },
    "tags": []
   },
   "outputs": [
    {
     "name": "stdout",
     "output_type": "stream",
     "text": [
      "<class 'pandas.core.frame.DataFrame'>\n",
      "RangeIndex: 891 entries, 0 to 890\n",
      "Data columns (total 12 columns):\n",
      " #   Column       Non-Null Count  Dtype  \n",
      "---  ------       --------------  -----  \n",
      " 0   PassengerId  891 non-null    int64  \n",
      " 1   Survived     891 non-null    int64  \n",
      " 2   Pclass       891 non-null    int64  \n",
      " 3   Name         891 non-null    object \n",
      " 4   Sex          891 non-null    object \n",
      " 5   Age          891 non-null    float64\n",
      " 6   SibSp        891 non-null    int64  \n",
      " 7   Parch        891 non-null    int64  \n",
      " 8   Ticket       891 non-null    object \n",
      " 9   Fare         891 non-null    float64\n",
      " 10  Cabin        891 non-null    object \n",
      " 11  Embarked     889 non-null    object \n",
      "dtypes: float64(2), int64(5), object(5)\n",
      "memory usage: 83.7+ KB\n",
      "<class 'pandas.core.frame.DataFrame'>\n",
      "RangeIndex: 418 entries, 0 to 417\n",
      "Data columns (total 11 columns):\n",
      " #   Column       Non-Null Count  Dtype  \n",
      "---  ------       --------------  -----  \n",
      " 0   PassengerId  418 non-null    int64  \n",
      " 1   Pclass       418 non-null    int64  \n",
      " 2   Name         418 non-null    object \n",
      " 3   Sex          418 non-null    object \n",
      " 4   Age          418 non-null    float64\n",
      " 5   SibSp        418 non-null    int64  \n",
      " 6   Parch        418 non-null    int64  \n",
      " 7   Ticket       418 non-null    object \n",
      " 8   Fare         417 non-null    float64\n",
      " 9   Cabin        418 non-null    object \n",
      " 10  Embarked     418 non-null    object \n",
      "dtypes: float64(2), int64(4), object(5)\n",
      "memory usage: 36.0+ KB\n"
     ]
    }
   ],
   "source": [
    "traindata['Age'] = traindata['Age'].fillna(traindata['Age'].median())\n",
    "testdata['Age'] = testdata['Age'].fillna(testdata['Age'].median())\n",
    "traindata['Cabin'] = traindata['Cabin'].fillna('U')\n",
    "testdata['Cabin'] = testdata['Cabin'].fillna('U')\n",
    "traindata.info()\n",
    "testdata.info()"
   ]
  },
  {
   "cell_type": "code",
   "execution_count": 6,
   "metadata": {
    "execution": {
     "iopub.execute_input": "2020-11-21T15:11:16.850072Z",
     "iopub.status.busy": "2020-11-21T15:11:16.849112Z",
     "iopub.status.idle": "2020-11-21T15:11:16.854055Z",
     "shell.execute_reply": "2020-11-21T15:11:16.853306Z"
    },
    "papermill": {
     "duration": 0.033829,
     "end_time": "2020-11-21T15:11:16.854179",
     "exception": false,
     "start_time": "2020-11-21T15:11:16.820350",
     "status": "completed"
    },
    "tags": []
   },
   "outputs": [
    {
     "data": {
      "text/plain": [
       "S    644\n",
       "C    168\n",
       "Q     77\n",
       "Name: Embarked, dtype: int64"
      ]
     },
     "execution_count": 6,
     "metadata": {},
     "output_type": "execute_result"
    }
   ],
   "source": [
    "traindata['Embarked'].value_counts()"
   ]
  },
  {
   "cell_type": "code",
   "execution_count": 7,
   "metadata": {
    "execution": {
     "iopub.execute_input": "2020-11-21T15:11:16.903603Z",
     "iopub.status.busy": "2020-11-21T15:11:16.902391Z",
     "iopub.status.idle": "2020-11-21T15:11:16.905747Z",
     "shell.execute_reply": "2020-11-21T15:11:16.906309Z"
    },
    "papermill": {
     "duration": 0.032453,
     "end_time": "2020-11-21T15:11:16.906475",
     "exception": false,
     "start_time": "2020-11-21T15:11:16.874022",
     "status": "completed"
    },
    "tags": []
   },
   "outputs": [],
   "source": [
    "traindata['Embarked'] = traindata['Embarked'].fillna('S')\n",
    "testdata['Fare'] = testdata['Fare'].fillna(testdata['Fare'].median())"
   ]
  },
  {
   "cell_type": "code",
   "execution_count": 8,
   "metadata": {
    "execution": {
     "iopub.execute_input": "2020-11-21T15:11:16.968709Z",
     "iopub.status.busy": "2020-11-21T15:11:16.967831Z",
     "iopub.status.idle": "2020-11-21T15:11:16.972167Z",
     "shell.execute_reply": "2020-11-21T15:11:16.971276Z"
    },
    "papermill": {
     "duration": 0.046344,
     "end_time": "2020-11-21T15:11:16.972297",
     "exception": false,
     "start_time": "2020-11-21T15:11:16.925953",
     "status": "completed"
    },
    "tags": []
   },
   "outputs": [
    {
     "name": "stdout",
     "output_type": "stream",
     "text": [
      "<class 'pandas.core.frame.DataFrame'>\n",
      "RangeIndex: 891 entries, 0 to 890\n",
      "Data columns (total 12 columns):\n",
      " #   Column       Non-Null Count  Dtype  \n",
      "---  ------       --------------  -----  \n",
      " 0   PassengerId  891 non-null    int64  \n",
      " 1   Survived     891 non-null    int64  \n",
      " 2   Pclass       891 non-null    int64  \n",
      " 3   Name         891 non-null    object \n",
      " 4   Sex          891 non-null    object \n",
      " 5   Age          891 non-null    float64\n",
      " 6   SibSp        891 non-null    int64  \n",
      " 7   Parch        891 non-null    int64  \n",
      " 8   Ticket       891 non-null    object \n",
      " 9   Fare         891 non-null    float64\n",
      " 10  Cabin        891 non-null    object \n",
      " 11  Embarked     891 non-null    object \n",
      "dtypes: float64(2), int64(5), object(5)\n",
      "memory usage: 83.7+ KB\n",
      "<class 'pandas.core.frame.DataFrame'>\n",
      "RangeIndex: 418 entries, 0 to 417\n",
      "Data columns (total 11 columns):\n",
      " #   Column       Non-Null Count  Dtype  \n",
      "---  ------       --------------  -----  \n",
      " 0   PassengerId  418 non-null    int64  \n",
      " 1   Pclass       418 non-null    int64  \n",
      " 2   Name         418 non-null    object \n",
      " 3   Sex          418 non-null    object \n",
      " 4   Age          418 non-null    float64\n",
      " 5   SibSp        418 non-null    int64  \n",
      " 6   Parch        418 non-null    int64  \n",
      " 7   Ticket       418 non-null    object \n",
      " 8   Fare         418 non-null    float64\n",
      " 9   Cabin        418 non-null    object \n",
      " 10  Embarked     418 non-null    object \n",
      "dtypes: float64(2), int64(4), object(5)\n",
      "memory usage: 36.0+ KB\n"
     ]
    }
   ],
   "source": [
    "traindata.info()\n",
    "testdata.info()"
   ]
  },
  {
   "cell_type": "code",
   "execution_count": 9,
   "metadata": {
    "execution": {
     "iopub.execute_input": "2020-11-21T15:11:17.026842Z",
     "iopub.status.busy": "2020-11-21T15:11:17.025678Z",
     "iopub.status.idle": "2020-11-21T15:11:17.033377Z",
     "shell.execute_reply": "2020-11-21T15:11:17.032676Z"
    },
    "papermill": {
     "duration": 0.041237,
     "end_time": "2020-11-21T15:11:17.033514",
     "exception": false,
     "start_time": "2020-11-21T15:11:16.992277",
     "status": "completed"
    },
    "tags": []
   },
   "outputs": [],
   "source": [
    "def get_title(name):\n",
    "    title = name.split('.')[0].split(',')[-1].strip()\n",
    "    return title\n",
    "traindata['Title'] = traindata['Name'].map(get_title)\n",
    "testdata['Title'] = testdata['Name'].map(get_title)"
   ]
  },
  {
   "cell_type": "code",
   "execution_count": 10,
   "metadata": {
    "execution": {
     "iopub.execute_input": "2020-11-21T15:11:17.100587Z",
     "iopub.status.busy": "2020-11-21T15:11:17.097193Z",
     "iopub.status.idle": "2020-11-21T15:11:17.103412Z",
     "shell.execute_reply": "2020-11-21T15:11:17.102420Z"
    },
    "papermill": {
     "duration": 0.048697,
     "end_time": "2020-11-21T15:11:17.103599",
     "exception": false,
     "start_time": "2020-11-21T15:11:17.054902",
     "status": "completed"
    },
    "tags": []
   },
   "outputs": [],
   "source": [
    "encoder = LabelEncoder()\n",
    "traindata['Title'] = encoder.fit_transform(traindata['Title'])\n",
    "encoder = LabelEncoder()\n",
    "traindata['Sex'] = encoder.fit_transform(traindata['Sex'])\n",
    "encoder = LabelEncoder()\n",
    "traindata['Embarked'] = encoder.fit_transform(traindata['Embarked'])\n",
    "traindata['Cabin'] = traindata['Cabin'].map(lambda x: 0 if x == 'U' else 1)\n",
    "\n",
    "encoder = LabelEncoder()\n",
    "testdata['Title'] = encoder.fit_transform(testdata['Title'])\n",
    "encoder = LabelEncoder()\n",
    "testdata['Sex'] = encoder.fit_transform(testdata['Sex'])\n",
    "encoder = LabelEncoder()\n",
    "testdata['Embarked'] = encoder.fit_transform(testdata['Embarked'])\n",
    "testdata['Cabin'] = testdata['Cabin'].map(lambda x: 0 if x == 'U' else 1)"
   ]
  },
  {
   "cell_type": "code",
   "execution_count": 11,
   "metadata": {
    "execution": {
     "iopub.execute_input": "2020-11-21T15:11:17.164984Z",
     "iopub.status.busy": "2020-11-21T15:11:17.161072Z",
     "iopub.status.idle": "2020-11-21T15:11:17.170422Z",
     "shell.execute_reply": "2020-11-21T15:11:17.170989Z"
    },
    "papermill": {
     "duration": 0.044063,
     "end_time": "2020-11-21T15:11:17.171243",
     "exception": false,
     "start_time": "2020-11-21T15:11:17.127180",
     "status": "completed"
    },
    "tags": []
   },
   "outputs": [
    {
     "data": {
      "text/plain": [
       "Survived       1.000000\n",
       "Cabin          0.316912\n",
       "Fare           0.257307\n",
       "Parch          0.081629\n",
       "PassengerId   -0.005007\n",
       "SibSp         -0.035322\n",
       "Age           -0.064910\n",
       "Embarked      -0.167675\n",
       "Title         -0.193635\n",
       "Pclass        -0.338481\n",
       "Sex           -0.543351\n",
       "Name: Survived, dtype: float64"
      ]
     },
     "execution_count": 11,
     "metadata": {},
     "output_type": "execute_result"
    }
   ],
   "source": [
    "traindata.corr()['Survived'].sort_values(ascending = False)"
   ]
  },
  {
   "cell_type": "code",
   "execution_count": 12,
   "metadata": {
    "execution": {
     "iopub.execute_input": "2020-11-21T15:11:17.224504Z",
     "iopub.status.busy": "2020-11-21T15:11:17.223394Z",
     "iopub.status.idle": "2020-11-21T15:11:17.226982Z",
     "shell.execute_reply": "2020-11-21T15:11:17.227811Z"
    },
    "papermill": {
     "duration": 0.035513,
     "end_time": "2020-11-21T15:11:17.228073",
     "exception": false,
     "start_time": "2020-11-21T15:11:17.192560",
     "status": "completed"
    },
    "tags": []
   },
   "outputs": [],
   "source": [
    "Xtrain = traindata[['Pclass', 'Parch','Sex','Fare','Cabin','Embarked']]\n",
    "\n",
    "ytrain = traindata['Survived']\n",
    "Xtest= testdata[['Pclass', 'Parch','Sex','Fare','Cabin','Embarked']]\n"
   ]
  },
  {
   "cell_type": "code",
   "execution_count": 13,
   "metadata": {
    "execution": {
     "iopub.execute_input": "2020-11-21T15:11:17.285171Z",
     "iopub.status.busy": "2020-11-21T15:11:17.284342Z",
     "iopub.status.idle": "2020-11-21T15:11:17.607439Z",
     "shell.execute_reply": "2020-11-21T15:11:17.606673Z"
    },
    "papermill": {
     "duration": 0.354021,
     "end_time": "2020-11-21T15:11:17.607574",
     "exception": false,
     "start_time": "2020-11-21T15:11:17.253553",
     "status": "completed"
    },
    "tags": []
   },
   "outputs": [
    {
     "name": "stdout",
     "output_type": "stream",
     "text": [
      "0.7901234567901234\n",
      "0.7272727272727273\n"
     ]
    }
   ],
   "source": [
    "import sklearn.linear_model as sk\n",
    "    \n",
    "ss = StandardScaler()\n",
    "X_train = ss.fit_transform(Xtrain)\n",
    "X_test = ss.transform(Xtest)\n",
    "\n",
    "    \n",
    "LR=sk.LogisticRegressionCV(cv=5, random_state=0)\n",
    "lrmodel=LR.fit(X_train,ytrain)\n",
    "\n",
    "lrpred=lrmodel.predict(X_test)  #predicted laber on test dataset\n",
    "lrpred_prob=lrmodel.predict_proba(X_test)[:,1]  #predicted probability on test dataset\n",
    "#print(lrmodel.coef_)\n",
    "\n",
    "#lrpred=lrmodel.predict(X_test)  #predicted laber on test dataset\n",
    "#lrpred_prob=lrmodel.predict_proba(X_test)[:,1]  #predicted probability on test dataset\n",
    "#print(lrmodel.coef_)\n",
    "\n",
    "#print(accuracy_score(y_test,lrpred))\n",
    "#print(precision_score(y_test,lrpred))\n",
    "lrpred=lrmodel.predict(X_train)  #predicted laber on test dataset\n",
    "\n",
    "print(accuracy_score(ytrain,lrpred))\n",
    "print(precision_score(ytrain,lrpred))"
   ]
  },
  {
   "cell_type": "code",
   "execution_count": 14,
   "metadata": {
    "execution": {
     "iopub.execute_input": "2020-11-21T15:11:17.665625Z",
     "iopub.status.busy": "2020-11-21T15:11:17.664642Z",
     "iopub.status.idle": "2020-11-21T15:11:18.911126Z",
     "shell.execute_reply": "2020-11-21T15:11:18.910459Z"
    },
    "papermill": {
     "duration": 1.281152,
     "end_time": "2020-11-21T15:11:18.911273",
     "exception": false,
     "start_time": "2020-11-21T15:11:17.630121",
     "status": "completed"
    },
    "tags": []
   },
   "outputs": [
    {
     "ename": "TypeError",
     "evalue": "fit_transform() missing 1 required positional argument: 'X'",
     "output_type": "error",
     "traceback": [
      "\u001b[0;31m---------------------------------------------------------------------------\u001b[0m",
      "\u001b[0;31mTypeError\u001b[0m                                 Traceback (most recent call last)",
      "\u001b[0;32m<ipython-input-14-86c167e665df>\u001b[0m in \u001b[0;36m<module>\u001b[0;34m\u001b[0m\n\u001b[1;32m      4\u001b[0m \u001b[0;32mfrom\u001b[0m \u001b[0mxgboost\u001b[0m \u001b[0;32mimport\u001b[0m \u001b[0mplot_importance\u001b[0m\u001b[0;34m\u001b[0m\u001b[0;34m\u001b[0m\u001b[0m\n\u001b[1;32m      5\u001b[0m \u001b[0mss\u001b[0m \u001b[0;34m=\u001b[0m \u001b[0mStandardScaler\u001b[0m\u001b[0;34m(\u001b[0m\u001b[0;34m)\u001b[0m\u001b[0;34m\u001b[0m\u001b[0;34m\u001b[0m\u001b[0m\n\u001b[0;32m----> 6\u001b[0;31m \u001b[0mX_train\u001b[0m \u001b[0;34m=\u001b[0m \u001b[0mss\u001b[0m\u001b[0;34m.\u001b[0m\u001b[0mfit_transform\u001b[0m\u001b[0;34m(\u001b[0m\u001b[0;34m)\u001b[0m\u001b[0;34m\u001b[0m\u001b[0;34m\u001b[0m\u001b[0m\n\u001b[0m\u001b[1;32m      7\u001b[0m \u001b[0;34m\u001b[0m\u001b[0m\n\u001b[1;32m      8\u001b[0m \u001b[0;34m\u001b[0m\u001b[0m\n",
      "\u001b[0;31mTypeError\u001b[0m: fit_transform() missing 1 required positional argument: 'X'"
     ]
    }
   ],
   "source": [
    "\n",
    "import xgboost as xgb\n",
    "from xgboost.sklearn import XGBClassifier\n",
    "from xgboost import plot_tree\n",
    "from xgboost import plot_importance\n",
    "ss = StandardScaler()\n",
    "X_train = ss.fit_transform()\n",
    " \n",
    "\n",
    "train_matrix = xgb.DMatrix(X_train,ytrain)\n",
    "\n",
    "params = {'booster':'gbtree','objective': 'binary:logistic','colsample_bytree': 0.8,'learning_rate': 0.1,\n",
    "                'max_depth': 5, 'alpha': 10}\n",
    "cv_results = xgb.cv(dtrain=train_matrix, params=params, nfold=3,\n",
    "                    num_boost_round=50,early_stopping_rounds=30,metrics='auc', as_pandas=True, seed=123)\n",
    "\n",
    "n_best_trees = cv_results.shape[0]\n",
    "print(\"best number of trees: {}\".format(n_best_trees))  # output 53\n",
    "\n",
    "watchlist = [(train_matrix, 'train')]\n",
    "gbt = xgb.train(params, train_matrix, n_best_trees,watchlist)  #打印错误率，准确率=1-错误率\n"
   ]
  },
  {
   "cell_type": "code",
   "execution_count": null,
   "metadata": {
    "papermill": {
     "duration": 0.022954,
     "end_time": "2020-11-21T15:11:18.957831",
     "exception": false,
     "start_time": "2020-11-21T15:11:18.934877",
     "status": "completed"
    },
    "tags": []
   },
   "outputs": [],
   "source": []
  },
  {
   "cell_type": "code",
   "execution_count": 15,
   "metadata": {
    "execution": {
     "iopub.execute_input": "2020-11-21T15:11:19.010738Z",
     "iopub.status.busy": "2020-11-21T15:11:19.009852Z",
     "iopub.status.idle": "2020-11-21T15:11:19.037597Z",
     "shell.execute_reply": "2020-11-21T15:11:19.036675Z"
    },
    "papermill": {
     "duration": 0.05741,
     "end_time": "2020-11-21T15:11:19.037731",
     "exception": false,
     "start_time": "2020-11-21T15:11:18.980321",
     "status": "completed"
    },
    "tags": []
   },
   "outputs": [
    {
     "ename": "NameError",
     "evalue": "name 'gbt' is not defined",
     "output_type": "error",
     "traceback": [
      "\u001b[0;31m---------------------------------------------------------------------------\u001b[0m",
      "\u001b[0;31mNameError\u001b[0m                                 Traceback (most recent call last)",
      "\u001b[0;32m<ipython-input-15-02566d097a61>\u001b[0m in \u001b[0;36m<module>\u001b[0;34m\u001b[0m\n\u001b[1;32m      1\u001b[0m \u001b[0mdtest\u001b[0m \u001b[0;34m=\u001b[0m \u001b[0mxgb\u001b[0m\u001b[0;34m.\u001b[0m\u001b[0mDMatrix\u001b[0m\u001b[0;34m(\u001b[0m\u001b[0mXtrain\u001b[0m\u001b[0;34m)\u001b[0m\u001b[0;34m\u001b[0m\u001b[0;34m\u001b[0m\u001b[0m\n\u001b[0;32m----> 2\u001b[0;31m \u001b[0mans\u001b[0m \u001b[0;34m=\u001b[0m \u001b[0mgbt\u001b[0m\u001b[0;34m.\u001b[0m\u001b[0mpredict\u001b[0m\u001b[0;34m(\u001b[0m\u001b[0mdtest\u001b[0m\u001b[0;34m)\u001b[0m\u001b[0;34m\u001b[0m\u001b[0;34m\u001b[0m\u001b[0m\n\u001b[0m\u001b[1;32m      3\u001b[0m \u001b[0;34m\u001b[0m\u001b[0m\n\u001b[1;32m      4\u001b[0m \u001b[0mpredictions\u001b[0m \u001b[0;34m=\u001b[0m \u001b[0;34m[\u001b[0m\u001b[0mround\u001b[0m\u001b[0;34m(\u001b[0m\u001b[0mi\u001b[0m\u001b[0;34m)\u001b[0m \u001b[0;32mfor\u001b[0m \u001b[0mi\u001b[0m \u001b[0;32min\u001b[0m \u001b[0mans\u001b[0m\u001b[0;34m]\u001b[0m\u001b[0;34m\u001b[0m\u001b[0;34m\u001b[0m\u001b[0m\n\u001b[1;32m      5\u001b[0m \u001b[0maccuracy\u001b[0m \u001b[0;34m=\u001b[0m \u001b[0maccuracy_score\u001b[0m\u001b[0;34m(\u001b[0m\u001b[0mytrain\u001b[0m\u001b[0;34m,\u001b[0m \u001b[0mpredictions\u001b[0m\u001b[0;34m)\u001b[0m\u001b[0;34m\u001b[0m\u001b[0;34m\u001b[0m\u001b[0m\n",
      "\u001b[0;31mNameError\u001b[0m: name 'gbt' is not defined"
     ]
    }
   ],
   "source": [
    "\n",
    "dtest = xgb.DMatrix(Xtrain)\n",
    "ans = gbt.predict(dtest)\n",
    "\n",
    "predictions = [round(i) for i in ans]\n",
    "accuracy = accuracy_score(ytrain, predictions)\n",
    "accuracy "
   ]
  },
  {
   "cell_type": "code",
   "execution_count": null,
   "metadata": {
    "papermill": {
     "duration": 0.022766,
     "end_time": "2020-11-21T15:11:19.083694",
     "exception": false,
     "start_time": "2020-11-21T15:11:19.060928",
     "status": "completed"
    },
    "tags": []
   },
   "outputs": [],
   "source": []
  },
  {
   "cell_type": "code",
   "execution_count": 16,
   "metadata": {
    "_cell_guid": "b1076dfc-b9ad-4769-8c92-a6c4dae69d19",
    "_uuid": "8f2839f25d086af736a60e9eeb907d3b93b6e0e5",
    "execution": {
     "iopub.execute_input": "2020-11-21T15:11:19.138300Z",
     "iopub.status.busy": "2020-11-21T15:11:19.137249Z",
     "iopub.status.idle": "2020-11-21T15:11:19.143002Z",
     "shell.execute_reply": "2020-11-21T15:11:19.143580Z"
    },
    "papermill": {
     "duration": 0.037079,
     "end_time": "2020-11-21T15:11:19.143750",
     "exception": false,
     "start_time": "2020-11-21T15:11:19.106671",
     "status": "completed"
    },
    "tags": []
   },
   "outputs": [
    {
     "name": "stdout",
     "output_type": "stream",
     "text": [
      "/kaggle/input/titanic/train.csv\n",
      "/kaggle/input/titanic/gender_submission.csv\n",
      "/kaggle/input/titanic/test.csv\n"
     ]
    }
   ],
   "source": [
    "# This Python 3 environment comes with many helpful analytics libraries installed\n",
    "# It is defined by the kaggle/python Docker image: https://github.com/kaggle/docker-python\n",
    "# For example, here's several helpful packages to load\n",
    "\n",
    "import numpy as np # linear algebra\n",
    "import pandas as pd # data processing, CSV file I/O (e.g. pd.read_csv)\n",
    "\n",
    "# Input data files are available in the read-only \"../input/\" directory\n",
    "# For example, running this (by clicking run or pressing Shift+Enter) will list all files under the input directory\n",
    "\n",
    "import os\n",
    "for dirname, _, filenames in os.walk('/kaggle/input'):\n",
    "    for filename in filenames:\n",
    "        print(os.path.join(dirname, filename))\n",
    "\n",
    "# You can write up to 20GB to the current directory (/kaggle/working/) that gets preserved as output when you create a version using \"Save & Run All\" \n",
    "# You can also write temporary files to /kaggle/temp/, but they won't be saved outside of the current session"
   ]
  },
  {
   "cell_type": "code",
   "execution_count": null,
   "metadata": {
    "_cell_guid": "79c7e3d0-c299-4dcb-8224-4455121ee9b0",
    "_uuid": "d629ff2d2480ee46fbb7e2d37f6b5fab8052498a",
    "collapsed": true,
    "papermill": {
     "duration": 0.023275,
     "end_time": "2020-11-21T15:11:19.190529",
     "exception": false,
     "start_time": "2020-11-21T15:11:19.167254",
     "status": "completed"
    },
    "tags": []
   },
   "outputs": [],
   "source": []
  }
 ],
 "metadata": {
  "kernelspec": {
   "display_name": "Python 3",
   "language": "python",
   "name": "python3"
  },
  "language_info": {
   "codemirror_mode": {
    "name": "ipython",
    "version": 3
   },
   "file_extension": ".py",
   "mimetype": "text/x-python",
   "name": "python",
   "nbconvert_exporter": "python",
   "pygments_lexer": "ipython3",
   "version": "3.7.6"
  },
  "papermill": {
   "duration": 10.035064,
   "end_time": "2020-11-21T15:11:19.323583",
   "environment_variables": {},
   "exception": null,
   "input_path": "__notebook__.ipynb",
   "output_path": "__notebook__.ipynb",
   "parameters": {},
   "start_time": "2020-11-21T15:11:09.288519",
   "version": "2.1.0"
  }
 },
 "nbformat": 4,
 "nbformat_minor": 4
}
